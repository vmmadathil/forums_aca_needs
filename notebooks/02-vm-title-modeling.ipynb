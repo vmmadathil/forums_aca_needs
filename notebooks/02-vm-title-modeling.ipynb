{
 "metadata": {
  "language_info": {
   "codemirror_mode": {
    "name": "ipython",
    "version": 3
   },
   "file_extension": ".py",
   "mimetype": "text/x-python",
   "name": "python",
   "nbconvert_exporter": "python",
   "pygments_lexer": "ipython3",
   "version": "3.8.5"
  },
  "orig_nbformat": 2,
  "kernelspec": {
   "name": "python385jvsc74a57bd059e43299af438c040623fe1ed75598134e5c49a9e638af191f2054cd46fed4b5",
   "display_name": "Python 3.8.5 64-bit ('aca-forum': conda)"
  }
 },
 "nbformat": 4,
 "nbformat_minor": 2,
 "cells": [
  {
   "cell_type": "code",
   "execution_count": 1,
   "metadata": {},
   "outputs": [],
   "source": [
    "import pandas as pd"
   ]
  },
  {
   "cell_type": "code",
   "execution_count": 2,
   "metadata": {},
   "outputs": [
    {
     "output_type": "execute_result",
     "data": {
      "text/plain": [
       "   Unnamed: 0                                           selftext  \\\n",
       "0           0  I am 20 years old and looking to get health in...   \n",
       "1           8  I'm transitioning from SSI (which automaticall...   \n",
       "2          15  Propublica wrote an excellent article on the p...   \n",
       "3          18  * Currently in our special enrollment period a...   \n",
       "4          22  Situation: my children’s mother is an addict. ...   \n",
       "\n",
       "                                               title         time_created  \\\n",
       "0  20 y/o Male. HSA Silver with Kaiser or Covered...  2021-05-10 18:13:16   \n",
       "1   SSDI waiting for medicare. ACA medicaid conflict  2021-05-10 03:02:01   \n",
       "2  The dangers of buying non-ACA compliant insura...  2021-05-09 01:22:14   \n",
       "3  Just married! Spouse is a.) *not* eligible for...  2021-05-08 01:45:27   \n",
       "4  Can you have Medicaid and an ACA plan? Need be...  2021-05-07 21:14:48   \n",
       "\n",
       "                                      processed_text  \\\n",
       "0  20 years old looking get health insurance i'm ...   \n",
       "1  i'm transitioning ssi automatically qualifies ...   \n",
       "2  propublica wrote excellent article pitfalls bu...   \n",
       "3  currently special enrollment period wedding on...   \n",
       "4  situation: children’s mother addict trying get...   \n",
       "\n",
       "                                     processed_title  \\\n",
       "0  20 year old male hsa silver with kaiser or cov...   \n",
       "1    ssdi waiting for medicare aca medicaid conflict   \n",
       "2  the dangers of buying non-aca compliant insura...   \n",
       "3  just married spouse is a not eligible for aca ...   \n",
       "4  can you have medicaid and an aca plan need bet...   \n",
       "\n",
       "                             processed_title_no_stop  \n",
       "0  20 year old male hsa silver kaiser covered cal...  \n",
       "1        ssdi waiting medicare aca medicaid conflict  \n",
       "2   dangers buying non-aca compliant insurance plans  \n",
       "3  married spouse eligible aca medicaid b low inc...  \n",
       "4      medicaid aca plan need better rehab treatment  "
      ],
      "text/html": "<div>\n<style scoped>\n    .dataframe tbody tr th:only-of-type {\n        vertical-align: middle;\n    }\n\n    .dataframe tbody tr th {\n        vertical-align: top;\n    }\n\n    .dataframe thead th {\n        text-align: right;\n    }\n</style>\n<table border=\"1\" class=\"dataframe\">\n  <thead>\n    <tr style=\"text-align: right;\">\n      <th></th>\n      <th>Unnamed: 0</th>\n      <th>selftext</th>\n      <th>title</th>\n      <th>time_created</th>\n      <th>processed_text</th>\n      <th>processed_title</th>\n      <th>processed_title_no_stop</th>\n    </tr>\n  </thead>\n  <tbody>\n    <tr>\n      <th>0</th>\n      <td>0</td>\n      <td>I am 20 years old and looking to get health in...</td>\n      <td>20 y/o Male. HSA Silver with Kaiser or Covered...</td>\n      <td>2021-05-10 18:13:16</td>\n      <td>20 years old looking get health insurance i'm ...</td>\n      <td>20 year old male hsa silver with kaiser or cov...</td>\n      <td>20 year old male hsa silver kaiser covered cal...</td>\n    </tr>\n    <tr>\n      <th>1</th>\n      <td>8</td>\n      <td>I'm transitioning from SSI (which automaticall...</td>\n      <td>SSDI waiting for medicare. ACA medicaid conflict</td>\n      <td>2021-05-10 03:02:01</td>\n      <td>i'm transitioning ssi automatically qualifies ...</td>\n      <td>ssdi waiting for medicare aca medicaid conflict</td>\n      <td>ssdi waiting medicare aca medicaid conflict</td>\n    </tr>\n    <tr>\n      <th>2</th>\n      <td>15</td>\n      <td>Propublica wrote an excellent article on the p...</td>\n      <td>The dangers of buying non-ACA compliant insura...</td>\n      <td>2021-05-09 01:22:14</td>\n      <td>propublica wrote excellent article pitfalls bu...</td>\n      <td>the dangers of buying non-aca compliant insura...</td>\n      <td>dangers buying non-aca compliant insurance plans</td>\n    </tr>\n    <tr>\n      <th>3</th>\n      <td>18</td>\n      <td>* Currently in our special enrollment period a...</td>\n      <td>Just married! Spouse is a.) *not* eligible for...</td>\n      <td>2021-05-08 01:45:27</td>\n      <td>currently special enrollment period wedding on...</td>\n      <td>just married spouse is a not eligible for aca ...</td>\n      <td>married spouse eligible aca medicaid b low inc...</td>\n    </tr>\n    <tr>\n      <th>4</th>\n      <td>22</td>\n      <td>Situation: my children’s mother is an addict. ...</td>\n      <td>Can you have Medicaid and an ACA plan? Need be...</td>\n      <td>2021-05-07 21:14:48</td>\n      <td>situation: children’s mother addict trying get...</td>\n      <td>can you have medicaid and an aca plan need bet...</td>\n      <td>medicaid aca plan need better rehab treatment</td>\n    </tr>\n  </tbody>\n</table>\n</div>"
     },
     "metadata": {},
     "execution_count": 2
    }
   ],
   "source": [
    "#importing identified aca posts\n",
    "posts = pd.read_csv('../data/processed/aca_posts_3.csv')\n",
    "\n",
    "posts.head()"
   ]
  },
  {
   "cell_type": "code",
   "execution_count": 3,
   "metadata": {},
   "outputs": [
    {
     "output_type": "execute_result",
     "data": {
      "text/plain": [
       "346"
      ]
     },
     "metadata": {},
     "execution_count": 3
    }
   ],
   "source": [
    "# how many posts contain which words\n",
    "len(posts[posts['processed_title'].str.contains('aca')])"
   ]
  },
  {
   "cell_type": "code",
   "execution_count": 4,
   "metadata": {},
   "outputs": [
    {
     "output_type": "execute_result",
     "data": {
      "text/plain": [
       "431"
      ]
     },
     "metadata": {},
     "execution_count": 4
    }
   ],
   "source": [
    "# how many posts contain which words\n",
    "len(posts[posts['processed_title'].str.contains('insurance')])"
   ]
  },
  {
   "cell_type": "code",
   "execution_count": 5,
   "metadata": {},
   "outputs": [
    {
     "output_type": "execute_result",
     "data": {
      "text/plain": [
       "1349"
      ]
     },
     "metadata": {},
     "execution_count": 5
    }
   ],
   "source": [
    "len(posts)"
   ]
  },
  {
   "cell_type": "code",
   "execution_count": 6,
   "metadata": {},
   "outputs": [],
   "source": [
    "#removing insurance\n",
    "posts['processed_title'] = posts['processed_title'].replace({'insurance': ''}, regex = True)"
   ]
  },
  {
   "cell_type": "code",
   "execution_count": 7,
   "metadata": {},
   "outputs": [],
   "source": [
    "#pre-processing the text\n",
    "\n",
    "# Bi and trigrams in the corpus\n",
    "import gensim\n",
    "from gensim.utils import simple_preprocess\n",
    "import gensim.corpora as corpora\n",
    "\n",
    "texts = posts['processed_title'].values.tolist()\n",
    "\n",
    "#tokenize words\n",
    "def sent_to_words(sentences):\n",
    "    for sentence in sentences:\n",
    "        yield(gensim.utils.simple_preprocess(str(sentence), deacc=True)) \n",
    "\n",
    "text_words = list(sent_to_words(texts))\n",
    "\n",
    "# Build the bigram and trigram models\n",
    "bigram = gensim.models.Phrases(text_words, min_count=5, threshold=50) \n",
    "trigram = gensim.models.Phrases(bigram[text_words], threshold=100)\n",
    "\n",
    "bigram_mod = gensim.models.phrases.Phraser(bigram)\n",
    "trigram_mod = gensim.models.phrases.Phraser(trigram)\n",
    "\n",
    "#functions to make bigram, trigrams, and remove stopwords\n",
    "from nltk.corpus import stopwords\n",
    "stop_words = stopwords.words('english')\n",
    "\n",
    "def remove_stopwords(texts):\n",
    "    return [[word for word in simple_preprocess(str(doc)) if word not in stop_words] for doc in texts]\n",
    "    \n",
    "def make_bigrams(texts):\n",
    "    return [bigram_mod[doc] for doc in texts]\n",
    "\n",
    "def make_trigrams(texts):\n",
    "    return [trigram_mod[bigram_mod[doc]] for doc in texts]\n",
    "\n",
    "#call functions and lemmtize text\n",
    "import spacy\n",
    "nlp = spacy.load(\"en_core_web_sm\", disable=['parser', 'ner'])\n",
    "\n",
    "text_words_no_stop = remove_stopwords(text_words)\n",
    "\n",
    "text_bigrams = make_bigrams(text_words_no_stop)\n",
    "text_trigrams = make_trigrams(text_words_no_stop)\n",
    "\n",
    "def lemmatization(texts):\n",
    "    texts_out = []\n",
    "    for sent in texts:\n",
    "        doc = nlp(\" \".join(sent)) \n",
    "        texts_out.append([token.lemma_ for token in doc])\n",
    "    return texts_out\n",
    "\n",
    "text_lemmatized = lemmatization(text_bigrams)\n",
    "trigrams_lemmatized = lemmatization(text_trigrams)\n",
    "\n",
    "\n",
    "#creating corpus and dictionary\n",
    "\n",
    "#Bigrams\n",
    "id2word = corpora.Dictionary(text_lemmatized)\n",
    "full_texts = text_lemmatized\n",
    "corpus = [id2word.doc2bow(text) for text in full_texts]\n",
    "\n",
    "#Trigrams\n",
    "id2word_trigrams = corpora.Dictionary(trigrams_lemmatized)\n",
    "trigram_texts = trigrams_lemmatized\n",
    "corpus_trigram = [id2word_trigrams.doc2bow(text) for text in trigram_texts]"
   ]
  },
  {
   "cell_type": "code",
   "execution_count": 10,
   "metadata": {},
   "outputs": [],
   "source": [
    "import os \n",
    "os.environ.update({'MALLET_HOME': r'C:\\new_mallet\\mallet-2.0.8'})\n",
    "\n",
    "mallet_path = 'C:\\\\new_mallet\\\\mallet-2.0.8\\\\bin\\\\mallet.bin'"
   ]
  },
  {
   "cell_type": "code",
   "execution_count": 11,
   "metadata": {},
   "outputs": [
    {
     "output_type": "stream",
     "name": "stdout",
     "text": [
      "Round: 2\n"
     ]
    },
    {
     "output_type": "error",
     "ename": "CalledProcessError",
     "evalue": "Command 'C:\\new_mallet\\mallet-2.0.8\\bin\\mallet.bin import-file --preserve-case --keep-sequence --remove-stopwords --token-regex \"\\S+\" --input C:\\Users\\madat\\AppData\\Local\\Temp\\a95c1b_corpus.txt --output C:\\Users\\madat\\AppData\\Local\\Temp\\a95c1b_corpus.mallet' returned non-zero exit status 1.",
     "traceback": [
      "\u001b[1;31m---------------------------------------------------------------------------\u001b[0m",
      "\u001b[1;31mCalledProcessError\u001b[0m                        Traceback (most recent call last)",
      "\u001b[1;32m<ipython-input-11-c1d812421753>\u001b[0m in \u001b[0;36m<module>\u001b[1;34m\u001b[0m\n\u001b[0;32m      8\u001b[0m     \u001b[0mprint\u001b[0m\u001b[1;33m(\u001b[0m\u001b[1;34m'Round: {}'\u001b[0m\u001b[1;33m.\u001b[0m\u001b[0mformat\u001b[0m\u001b[1;33m(\u001b[0m\u001b[0mi\u001b[0m\u001b[1;33m)\u001b[0m\u001b[1;33m)\u001b[0m\u001b[1;33m\u001b[0m\u001b[1;33m\u001b[0m\u001b[0m\n\u001b[0;32m      9\u001b[0m \u001b[1;33m\u001b[0m\u001b[0m\n\u001b[1;32m---> 10\u001b[1;33m     \u001b[0mlda_model\u001b[0m \u001b[1;33m=\u001b[0m \u001b[0mmodeled\u001b[0m\u001b[1;33m.\u001b[0m\u001b[0mwrappers\u001b[0m\u001b[1;33m.\u001b[0m\u001b[0mLdaMallet\u001b[0m\u001b[1;33m(\u001b[0m\u001b[0mmallet_path\u001b[0m\u001b[1;33m,\u001b[0m \u001b[0mcorpus\u001b[0m\u001b[1;33m=\u001b[0m\u001b[0mcorpus\u001b[0m\u001b[1;33m,\u001b[0m \u001b[0mnum_topics\u001b[0m\u001b[1;33m=\u001b[0m\u001b[0mi\u001b[0m\u001b[1;33m,\u001b[0m \u001b[0mid2word\u001b[0m\u001b[1;33m=\u001b[0m\u001b[0mid2word\u001b[0m\u001b[1;33m)\u001b[0m\u001b[1;33m\u001b[0m\u001b[1;33m\u001b[0m\u001b[0m\n\u001b[0m\u001b[0;32m     11\u001b[0m \u001b[1;33m\u001b[0m\u001b[0m\n\u001b[0;32m     12\u001b[0m     \u001b[0mcoherence_model_ldamallet\u001b[0m \u001b[1;33m=\u001b[0m \u001b[0mCoherenceModel\u001b[0m\u001b[1;33m(\u001b[0m\u001b[0mmodel\u001b[0m\u001b[1;33m=\u001b[0m\u001b[0mlda_model\u001b[0m\u001b[1;33m,\u001b[0m \u001b[0mtexts\u001b[0m\u001b[1;33m=\u001b[0m\u001b[0mtext_lemmatized\u001b[0m\u001b[1;33m,\u001b[0m \u001b[0mdictionary\u001b[0m\u001b[1;33m=\u001b[0m\u001b[0mid2word\u001b[0m\u001b[1;33m,\u001b[0m \u001b[0mcoherence\u001b[0m\u001b[1;33m=\u001b[0m\u001b[1;34m'c_v'\u001b[0m\u001b[1;33m)\u001b[0m\u001b[1;33m\u001b[0m\u001b[1;33m\u001b[0m\u001b[0m\n",
      "\u001b[1;32m~\\AppData\\Local\\Continuum\\anaconda3\\envs\\aca-forum\\lib\\site-packages\\gensim\\models\\wrappers\\ldamallet.py\u001b[0m in \u001b[0;36m__init__\u001b[1;34m(self, mallet_path, corpus, num_topics, alpha, id2word, workers, prefix, optimize_interval, iterations, topic_threshold, random_seed)\u001b[0m\n\u001b[0;32m    129\u001b[0m         \u001b[0mself\u001b[0m\u001b[1;33m.\u001b[0m\u001b[0mrandom_seed\u001b[0m \u001b[1;33m=\u001b[0m \u001b[0mrandom_seed\u001b[0m\u001b[1;33m\u001b[0m\u001b[1;33m\u001b[0m\u001b[0m\n\u001b[0;32m    130\u001b[0m         \u001b[1;32mif\u001b[0m \u001b[0mcorpus\u001b[0m \u001b[1;32mis\u001b[0m \u001b[1;32mnot\u001b[0m \u001b[1;32mNone\u001b[0m\u001b[1;33m:\u001b[0m\u001b[1;33m\u001b[0m\u001b[1;33m\u001b[0m\u001b[0m\n\u001b[1;32m--> 131\u001b[1;33m             \u001b[0mself\u001b[0m\u001b[1;33m.\u001b[0m\u001b[0mtrain\u001b[0m\u001b[1;33m(\u001b[0m\u001b[0mcorpus\u001b[0m\u001b[1;33m)\u001b[0m\u001b[1;33m\u001b[0m\u001b[1;33m\u001b[0m\u001b[0m\n\u001b[0m\u001b[0;32m    132\u001b[0m \u001b[1;33m\u001b[0m\u001b[0m\n\u001b[0;32m    133\u001b[0m     \u001b[1;32mdef\u001b[0m \u001b[0mfinferencer\u001b[0m\u001b[1;33m(\u001b[0m\u001b[0mself\u001b[0m\u001b[1;33m)\u001b[0m\u001b[1;33m:\u001b[0m\u001b[1;33m\u001b[0m\u001b[1;33m\u001b[0m\u001b[0m\n",
      "\u001b[1;32m~\\AppData\\Local\\Continuum\\anaconda3\\envs\\aca-forum\\lib\\site-packages\\gensim\\models\\wrappers\\ldamallet.py\u001b[0m in \u001b[0;36mtrain\u001b[1;34m(self, corpus)\u001b[0m\n\u001b[0;32m    270\u001b[0m \u001b[1;33m\u001b[0m\u001b[0m\n\u001b[0;32m    271\u001b[0m         \"\"\"\n\u001b[1;32m--> 272\u001b[1;33m         \u001b[0mself\u001b[0m\u001b[1;33m.\u001b[0m\u001b[0mconvert_input\u001b[0m\u001b[1;33m(\u001b[0m\u001b[0mcorpus\u001b[0m\u001b[1;33m,\u001b[0m \u001b[0minfer\u001b[0m\u001b[1;33m=\u001b[0m\u001b[1;32mFalse\u001b[0m\u001b[1;33m)\u001b[0m\u001b[1;33m\u001b[0m\u001b[1;33m\u001b[0m\u001b[0m\n\u001b[0m\u001b[0;32m    273\u001b[0m         \u001b[0mcmd\u001b[0m \u001b[1;33m=\u001b[0m \u001b[0mself\u001b[0m\u001b[1;33m.\u001b[0m\u001b[0mmallet_path\u001b[0m \u001b[1;33m+\u001b[0m \u001b[1;34m' train-topics --input %s --num-topics %s  --alpha %s --optimize-interval %s '\u001b[0m\u001b[0;31m\\\u001b[0m\u001b[1;33m\u001b[0m\u001b[1;33m\u001b[0m\u001b[0m\n\u001b[0;32m    274\u001b[0m             \u001b[1;34m'--num-threads %s --output-state %s --output-doc-topics %s --output-topic-keys %s '\u001b[0m\u001b[0;31m\\\u001b[0m\u001b[1;33m\u001b[0m\u001b[1;33m\u001b[0m\u001b[0m\n",
      "\u001b[1;32m~\\AppData\\Local\\Continuum\\anaconda3\\envs\\aca-forum\\lib\\site-packages\\gensim\\models\\wrappers\\ldamallet.py\u001b[0m in \u001b[0;36mconvert_input\u001b[1;34m(self, corpus, infer, serialize_corpus)\u001b[0m\n\u001b[0;32m    259\u001b[0m             \u001b[0mcmd\u001b[0m \u001b[1;33m=\u001b[0m \u001b[0mcmd\u001b[0m \u001b[1;33m%\u001b[0m \u001b[1;33m(\u001b[0m\u001b[0mself\u001b[0m\u001b[1;33m.\u001b[0m\u001b[0mfcorpustxt\u001b[0m\u001b[1;33m(\u001b[0m\u001b[1;33m)\u001b[0m\u001b[1;33m,\u001b[0m \u001b[0mself\u001b[0m\u001b[1;33m.\u001b[0m\u001b[0mfcorpusmallet\u001b[0m\u001b[1;33m(\u001b[0m\u001b[1;33m)\u001b[0m\u001b[1;33m)\u001b[0m\u001b[1;33m\u001b[0m\u001b[1;33m\u001b[0m\u001b[0m\n\u001b[0;32m    260\u001b[0m         \u001b[0mlogger\u001b[0m\u001b[1;33m.\u001b[0m\u001b[0minfo\u001b[0m\u001b[1;33m(\u001b[0m\u001b[1;34m\"converting temporary corpus to MALLET format with %s\"\u001b[0m\u001b[1;33m,\u001b[0m \u001b[0mcmd\u001b[0m\u001b[1;33m)\u001b[0m\u001b[1;33m\u001b[0m\u001b[1;33m\u001b[0m\u001b[0m\n\u001b[1;32m--> 261\u001b[1;33m         \u001b[0mcheck_output\u001b[0m\u001b[1;33m(\u001b[0m\u001b[0margs\u001b[0m\u001b[1;33m=\u001b[0m\u001b[0mcmd\u001b[0m\u001b[1;33m,\u001b[0m \u001b[0mshell\u001b[0m\u001b[1;33m=\u001b[0m\u001b[1;32mTrue\u001b[0m\u001b[1;33m)\u001b[0m\u001b[1;33m\u001b[0m\u001b[1;33m\u001b[0m\u001b[0m\n\u001b[0m\u001b[0;32m    262\u001b[0m \u001b[1;33m\u001b[0m\u001b[0m\n\u001b[0;32m    263\u001b[0m     \u001b[1;32mdef\u001b[0m \u001b[0mtrain\u001b[0m\u001b[1;33m(\u001b[0m\u001b[0mself\u001b[0m\u001b[1;33m,\u001b[0m \u001b[0mcorpus\u001b[0m\u001b[1;33m)\u001b[0m\u001b[1;33m:\u001b[0m\u001b[1;33m\u001b[0m\u001b[1;33m\u001b[0m\u001b[0m\n",
      "\u001b[1;32m~\\AppData\\Local\\Continuum\\anaconda3\\envs\\aca-forum\\lib\\site-packages\\gensim\\utils.py\u001b[0m in \u001b[0;36mcheck_output\u001b[1;34m(stdout, *popenargs, **kwargs)\u001b[0m\n\u001b[0;32m   1930\u001b[0m             \u001b[0merror\u001b[0m \u001b[1;33m=\u001b[0m \u001b[0msubprocess\u001b[0m\u001b[1;33m.\u001b[0m\u001b[0mCalledProcessError\u001b[0m\u001b[1;33m(\u001b[0m\u001b[0mretcode\u001b[0m\u001b[1;33m,\u001b[0m \u001b[0mcmd\u001b[0m\u001b[1;33m)\u001b[0m\u001b[1;33m\u001b[0m\u001b[1;33m\u001b[0m\u001b[0m\n\u001b[0;32m   1931\u001b[0m             \u001b[0merror\u001b[0m\u001b[1;33m.\u001b[0m\u001b[0moutput\u001b[0m \u001b[1;33m=\u001b[0m \u001b[0moutput\u001b[0m\u001b[1;33m\u001b[0m\u001b[1;33m\u001b[0m\u001b[0m\n\u001b[1;32m-> 1932\u001b[1;33m             \u001b[1;32mraise\u001b[0m \u001b[0merror\u001b[0m\u001b[1;33m\u001b[0m\u001b[1;33m\u001b[0m\u001b[0m\n\u001b[0m\u001b[0;32m   1933\u001b[0m         \u001b[1;32mreturn\u001b[0m \u001b[0moutput\u001b[0m\u001b[1;33m\u001b[0m\u001b[1;33m\u001b[0m\u001b[0m\n\u001b[0;32m   1934\u001b[0m     \u001b[1;32mexcept\u001b[0m \u001b[0mKeyboardInterrupt\u001b[0m\u001b[1;33m:\u001b[0m\u001b[1;33m\u001b[0m\u001b[1;33m\u001b[0m\u001b[0m\n",
      "\u001b[1;31mCalledProcessError\u001b[0m: Command 'C:\\new_mallet\\mallet-2.0.8\\bin\\mallet.bin import-file --preserve-case --keep-sequence --remove-stopwords --token-regex \"\\S+\" --input C:\\Users\\madat\\AppData\\Local\\Temp\\a95c1b_corpus.txt --output C:\\Users\\madat\\AppData\\Local\\Temp\\a95c1b_corpus.mallet' returned non-zero exit status 1."
     ]
    }
   ],
   "source": [
    "#exploring for bigrams\n",
    "import gensim.models as modeled\n",
    "\n",
    "coherence = []\n",
    "\n",
    "#looping through 2 to 15 topics\n",
    "for i in range(2,16):\n",
    "    print('Round: {}'.format(i))\n",
    "\n",
    "    lda_model = modeled.wrappers.LdaMallet(mallet_path, corpus=corpus, num_topics=i, id2word=id2word)\n",
    "\n",
    "    coherence_model_ldamallet = CoherenceModel(model=lda_model, texts=text_lemmatized, dictionary=id2word, coherence='c_v')\n",
    "    coherence_ldamallet = coherence_model_ldamallet.get_coherence()\n",
    "                                                \n",
    "    coherence.append([i,coherence_ldamallet])"
   ]
  },
  {
   "cell_type": "code",
   "execution_count": null,
   "metadata": {},
   "outputs": [],
   "source": [
    "#graph for bigrams\n",
    "x,y = zip(*coherence)\n",
    "\n",
    "plt.plot(x,y)\n",
    "plt.xlabel('Number of topics')\n",
    "plt.ylabel('Coherence')\n",
    "plt.title('Number of Topics vs Coherence with Bigrams')"
   ]
  },
  {
   "cell_type": "code",
   "execution_count": null,
   "metadata": {},
   "outputs": [],
   "source": [
    "#exploring for trigrams as well\n",
    "\n",
    "coher_tri = []\n",
    "\n",
    "for i in range(2,16):\n",
    "    print('Round: {}'.format(i))\n",
    "\n",
    "    lda_model = gensim.models.wrappers.LdaMallet(mallet_path, corpus=corpus_trigram, num_topics=i, id2word=id2word_trigrams)\n",
    "\n",
    "    coherence_model_ldamallet = CoherenceModel(model=lda_model, texts=trigrams_lemmatized, dictionary=id2word_trigrams, coherence='c_v')\n",
    "    coherence_ldamallet = coherence_model_ldamallet.get_coherence()\n",
    "                                                \n",
    "    coher_tri.append([i,coherence_ldamallet])"
   ]
  },
  {
   "cell_type": "code",
   "execution_count": null,
   "metadata": {},
   "outputs": [],
   "source": [
    "#graph for bigrams\n",
    "x,y = zip(*coher_tri)\n",
    "\n",
    "plt.plot(x,y)\n",
    "plt.xlabel('Number of topics')\n",
    "plt.ylabel('Coherence')\n",
    "plt.title('Number of Topics vs Coherence with Trigrams')"
   ]
  }
 ]
}