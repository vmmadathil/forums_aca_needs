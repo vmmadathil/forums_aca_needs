{
 "metadata": {
  "language_info": {
   "codemirror_mode": {
    "name": "ipython",
    "version": 3
   },
   "file_extension": ".py",
   "mimetype": "text/x-python",
   "name": "python",
   "nbconvert_exporter": "python",
   "pygments_lexer": "ipython3",
   "version": "3.8.5-final"
  },
  "orig_nbformat": 2,
  "kernelspec": {
   "name": "python3",
   "display_name": "Python 3.8.5 64-bit ('tx2036-test': conda)",
   "metadata": {
    "interpreter": {
     "hash": "a57c79dc9956e442f3c50029d8fd4fa1ea1c7263198942fc1f0ab90314f7affc"
    }
   }
  }
 },
 "nbformat": 4,
 "nbformat_minor": 2,
 "cells": [
  {
   "cell_type": "code",
   "execution_count": 1,
   "metadata": {},
   "outputs": [],
   "source": [
    "import numpy as np\n",
    "import matplotlib.pyplot as plt\n",
    "import seaborn as sns\n",
    "import pandas as pd"
   ]
  },
  {
   "cell_type": "code",
   "execution_count": 10,
   "metadata": {},
   "outputs": [
    {
     "output_type": "execute_result",
     "data": {
      "text/plain": [
       "   Unnamed: 0                                           selftext  \\\n",
       "0           0  Hi all, hoping for some advise here. \\n\\nWe ar...   \n",
       "1           1  It's my time picking out insurance and dealing...   \n",
       "2           2  I am wondering about the implications of answe...   \n",
       "3           3  I had spoken with someone over the phone with ...   \n",
       "4           4  Can anyone provide me any information about th...   \n",
       "\n",
       "                                               title         time_created  \\\n",
       "0                       Changing insurance mid year?  2020-11-20 04:38:11   \n",
       "1    PPO or CDHP as a person with a chronic disease?  2020-11-20 04:19:00   \n",
       "2  How to answer questions about an injury/worker...  2020-11-20 04:08:32   \n",
       "3                        Misinformed by my insurance  2020-11-20 03:07:41   \n",
       "4                                Blue Cross vs Cigna  2020-11-20 01:56:38   \n",
       "\n",
       "                                      processed_text  \\\n",
       "0  hi hoping advise currently wife's insurance (c...   \n",
       "1  time picking insurance dealing premiums deduct...   \n",
       "2  wondering implications answering questionnaire...   \n",
       "3  spoken someone phone anthem (my insurance prov...   \n",
       "4  anyone provide information cigna connect 700-4...   \n",
       "\n",
       "                        processed_title  \n",
       "0           changing insurance mid year  \n",
       "1       ppo cdhp person chronic disease  \n",
       "2  answer questions injury/workers comp  \n",
       "3                 misinformed insurance  \n",
       "4                   blue cross vs cigna  "
      ],
      "text/html": "<div>\n<style scoped>\n    .dataframe tbody tr th:only-of-type {\n        vertical-align: middle;\n    }\n\n    .dataframe tbody tr th {\n        vertical-align: top;\n    }\n\n    .dataframe thead th {\n        text-align: right;\n    }\n</style>\n<table border=\"1\" class=\"dataframe\">\n  <thead>\n    <tr style=\"text-align: right;\">\n      <th></th>\n      <th>Unnamed: 0</th>\n      <th>selftext</th>\n      <th>title</th>\n      <th>time_created</th>\n      <th>processed_text</th>\n      <th>processed_title</th>\n    </tr>\n  </thead>\n  <tbody>\n    <tr>\n      <th>0</th>\n      <td>0</td>\n      <td>Hi all, hoping for some advise here. \\n\\nWe ar...</td>\n      <td>Changing insurance mid year?</td>\n      <td>2020-11-20 04:38:11</td>\n      <td>hi hoping advise currently wife's insurance (c...</td>\n      <td>changing insurance mid year</td>\n    </tr>\n    <tr>\n      <th>1</th>\n      <td>1</td>\n      <td>It's my time picking out insurance and dealing...</td>\n      <td>PPO or CDHP as a person with a chronic disease?</td>\n      <td>2020-11-20 04:19:00</td>\n      <td>time picking insurance dealing premiums deduct...</td>\n      <td>ppo cdhp person chronic disease</td>\n    </tr>\n    <tr>\n      <th>2</th>\n      <td>2</td>\n      <td>I am wondering about the implications of answe...</td>\n      <td>How to answer questions about an injury/worker...</td>\n      <td>2020-11-20 04:08:32</td>\n      <td>wondering implications answering questionnaire...</td>\n      <td>answer questions injury/workers comp</td>\n    </tr>\n    <tr>\n      <th>3</th>\n      <td>3</td>\n      <td>I had spoken with someone over the phone with ...</td>\n      <td>Misinformed by my insurance</td>\n      <td>2020-11-20 03:07:41</td>\n      <td>spoken someone phone anthem (my insurance prov...</td>\n      <td>misinformed insurance</td>\n    </tr>\n    <tr>\n      <th>4</th>\n      <td>4</td>\n      <td>Can anyone provide me any information about th...</td>\n      <td>Blue Cross vs Cigna</td>\n      <td>2020-11-20 01:56:38</td>\n      <td>anyone provide information cigna connect 700-4...</td>\n      <td>blue cross vs cigna</td>\n    </tr>\n  </tbody>\n</table>\n</div>"
     },
     "metadata": {},
     "execution_count": 10
    }
   ],
   "source": [
    "#reading in dataset \n",
    "posts = pd.read_csv('../data/processed/cleaned_reddit_data.csv')\n",
    "\n",
    "posts.head()"
   ]
  },
  {
   "cell_type": "code",
   "execution_count": 5,
   "metadata": {},
   "outputs": [
    {
     "output_type": "stream",
     "name": "stdout",
     "text": [
      "(13047, 6)\n"
     ]
    }
   ],
   "source": [
    "print(posts.shape)"
   ]
  },
  {
   "cell_type": "code",
   "execution_count": 13,
   "metadata": {},
   "outputs": [
    {
     "output_type": "execute_result",
     "data": {
      "text/plain": [
       "       Unnamed: 0                                           selftext  \\\n",
       "13042       18915  Hi, I have a terrible  hmo plan through my emp...   \n",
       "13043       18917  My girlfriend has HIV and has had it for somet...   \n",
       "13044       18918  If a plan does not show co-payments (for dr vi...   \n",
       "13045       18921  I recently voluntarily left my job, and have n...   \n",
       "13046       18934  It's not so \"Jerry Springer\" as the title make...   \n",
       "\n",
       "                                                   title         time_created  \\\n",
       "13042  Can I opt out of my employer health insurance ...  2015-02-01 13:15:40   \n",
       "13043  Need help girlfriend with HIV needs health ins...  2014-12-04 22:47:51   \n",
       "13044  First time Shopping for Health Insurance.. Nee...  2014-11-24 03:48:36   \n",
       "13045                    How do I find Health Insurance?  2014-10-29 15:15:14   \n",
       "13046  Uninsured and pregnant by a married man. Any a...  2013-04-11 18:24:53   \n",
       "\n",
       "                                          processed_text  \\\n",
       "13042  hi terrible hmo plan employer i'm recently div...   \n",
       "13043  girlfriend hiv sometime program assists meds l...   \n",
       "13044  plan show co-payments (for dr visits such) mea...   \n",
       "13045  recently voluntarily left job insurance i'm ne...   \n",
       "13046  \"jerry springer\" title makes sound found boyfr...   \n",
       "\n",
       "                                         processed_title  \n",
       "13042  opt employer health insurance purchase state i...  \n",
       "13043    need help girlfriend hiv needs health insurance  \n",
       "13044  first time shopping health insurance need some...  \n",
       "13045                              find health insurance  \n",
       "13046  uninsured pregnant married man advice would mu...  "
      ],
      "text/html": "<div>\n<style scoped>\n    .dataframe tbody tr th:only-of-type {\n        vertical-align: middle;\n    }\n\n    .dataframe tbody tr th {\n        vertical-align: top;\n    }\n\n    .dataframe thead th {\n        text-align: right;\n    }\n</style>\n<table border=\"1\" class=\"dataframe\">\n  <thead>\n    <tr style=\"text-align: right;\">\n      <th></th>\n      <th>Unnamed: 0</th>\n      <th>selftext</th>\n      <th>title</th>\n      <th>time_created</th>\n      <th>processed_text</th>\n      <th>processed_title</th>\n    </tr>\n  </thead>\n  <tbody>\n    <tr>\n      <th>13042</th>\n      <td>18915</td>\n      <td>Hi, I have a terrible  hmo plan through my emp...</td>\n      <td>Can I opt out of my employer health insurance ...</td>\n      <td>2015-02-01 13:15:40</td>\n      <td>hi terrible hmo plan employer i'm recently div...</td>\n      <td>opt employer health insurance purchase state i...</td>\n    </tr>\n    <tr>\n      <th>13043</th>\n      <td>18917</td>\n      <td>My girlfriend has HIV and has had it for somet...</td>\n      <td>Need help girlfriend with HIV needs health ins...</td>\n      <td>2014-12-04 22:47:51</td>\n      <td>girlfriend hiv sometime program assists meds l...</td>\n      <td>need help girlfriend hiv needs health insurance</td>\n    </tr>\n    <tr>\n      <th>13044</th>\n      <td>18918</td>\n      <td>If a plan does not show co-payments (for dr vi...</td>\n      <td>First time Shopping for Health Insurance.. Nee...</td>\n      <td>2014-11-24 03:48:36</td>\n      <td>plan show co-payments (for dr visits such) mea...</td>\n      <td>first time shopping health insurance need some...</td>\n    </tr>\n    <tr>\n      <th>13045</th>\n      <td>18921</td>\n      <td>I recently voluntarily left my job, and have n...</td>\n      <td>How do I find Health Insurance?</td>\n      <td>2014-10-29 15:15:14</td>\n      <td>recently voluntarily left job insurance i'm ne...</td>\n      <td>find health insurance</td>\n    </tr>\n    <tr>\n      <th>13046</th>\n      <td>18934</td>\n      <td>It's not so \"Jerry Springer\" as the title make...</td>\n      <td>Uninsured and pregnant by a married man. Any a...</td>\n      <td>2013-04-11 18:24:53</td>\n      <td>\"jerry springer\" title makes sound found boyfr...</td>\n      <td>uninsured pregnant married man advice would mu...</td>\n    </tr>\n  </tbody>\n</table>\n</div>"
     },
     "metadata": {},
     "execution_count": 13
    }
   ],
   "source": [
    "posts.tail()"
   ]
  },
  {
   "cell_type": "code",
   "execution_count": 37,
   "metadata": {},
   "outputs": [
    {
     "output_type": "stream",
     "name": "stdout",
     "text": [
      "(1069, 6)\n"
     ]
    }
   ],
   "source": [
    "posts_aca = posts[posts['processed_title'].str.contains('obamacare|obama care|aca|affordable care act|individual mandate|healthcare.gov|1095-a|1095a|1095|open enrollment|marketplace|aptc|advance premium tax credit|special enrollment|gold|silver|bronze|health insurance exchange|exchange|pre existing|preexisting|pre-existing')]\n",
    "\n",
    "print(posts_aca.shape)"
   ]
  },
  {
   "cell_type": "code",
   "execution_count": 27,
   "metadata": {},
   "outputs": [
    {
     "output_type": "execute_result",
     "data": {
      "text/plain": [
       "    Unnamed: 0                                           selftext  \\\n",
       "15          15  Hey all. I'm currently under a contract/am tem...   \n",
       "21          22  They are relatives, they live in my household,...   \n",
       "23          24  My mom (58 y.o.) works as a nanny/housekeeper ...   \n",
       "26          28  This is the first time I've had the money (or ...   \n",
       "27          29  Got laid off early this year. At the time I th...   \n",
       "\n",
       "                                                title         time_created  \\\n",
       "15  Just missed open enrollment but I'll be changi...  2020-11-19 08:09:29   \n",
       "21  Can I get insurance thru marketplace for child...  2020-11-19 00:09:29   \n",
       "23        Can’t afford marketplace insurance, advice?  2020-11-18 23:00:48   \n",
       "26  Special Enrollment insurance question for myse...  2020-11-18 22:09:19   \n",
       "27                   How To Back Date ACA Tax Credit?  2020-11-18 22:02:56   \n",
       "\n",
       "                                       processed_text  \\\n",
       "15  hey i'm currently contract/am temp-to-hire wor...   \n",
       "21  relatives live household i've covering expense...   \n",
       "23  mom (58 yo) works nanny/housekeeper family boo...   \n",
       "26  first time i've money (or ability) get health ...   \n",
       "27  got laid early year time thought i'd find job ...   \n",
       "\n",
       "                                      processed_title  \n",
       "15  missed open enrollment i'll changing companies...  \n",
       "21  get insurance thru marketplace children unoffi...  \n",
       "23          can’t afford marketplace insurance advice  \n",
       "26  special enrollment insurance question &amp spouse  \n",
       "27                           back date aca tax credit  "
      ],
      "text/html": "<div>\n<style scoped>\n    .dataframe tbody tr th:only-of-type {\n        vertical-align: middle;\n    }\n\n    .dataframe tbody tr th {\n        vertical-align: top;\n    }\n\n    .dataframe thead th {\n        text-align: right;\n    }\n</style>\n<table border=\"1\" class=\"dataframe\">\n  <thead>\n    <tr style=\"text-align: right;\">\n      <th></th>\n      <th>Unnamed: 0</th>\n      <th>selftext</th>\n      <th>title</th>\n      <th>time_created</th>\n      <th>processed_text</th>\n      <th>processed_title</th>\n    </tr>\n  </thead>\n  <tbody>\n    <tr>\n      <th>15</th>\n      <td>15</td>\n      <td>Hey all. I'm currently under a contract/am tem...</td>\n      <td>Just missed open enrollment but I'll be changi...</td>\n      <td>2020-11-19 08:09:29</td>\n      <td>hey i'm currently contract/am temp-to-hire wor...</td>\n      <td>missed open enrollment i'll changing companies...</td>\n    </tr>\n    <tr>\n      <th>21</th>\n      <td>22</td>\n      <td>They are relatives, they live in my household,...</td>\n      <td>Can I get insurance thru marketplace for child...</td>\n      <td>2020-11-19 00:09:29</td>\n      <td>relatives live household i've covering expense...</td>\n      <td>get insurance thru marketplace children unoffi...</td>\n    </tr>\n    <tr>\n      <th>23</th>\n      <td>24</td>\n      <td>My mom (58 y.o.) works as a nanny/housekeeper ...</td>\n      <td>Can’t afford marketplace insurance, advice?</td>\n      <td>2020-11-18 23:00:48</td>\n      <td>mom (58 yo) works nanny/housekeeper family boo...</td>\n      <td>can’t afford marketplace insurance advice</td>\n    </tr>\n    <tr>\n      <th>26</th>\n      <td>28</td>\n      <td>This is the first time I've had the money (or ...</td>\n      <td>Special Enrollment insurance question for myse...</td>\n      <td>2020-11-18 22:09:19</td>\n      <td>first time i've money (or ability) get health ...</td>\n      <td>special enrollment insurance question &amp;amp spouse</td>\n    </tr>\n    <tr>\n      <th>27</th>\n      <td>29</td>\n      <td>Got laid off early this year. At the time I th...</td>\n      <td>How To Back Date ACA Tax Credit?</td>\n      <td>2020-11-18 22:02:56</td>\n      <td>got laid early year time thought i'd find job ...</td>\n      <td>back date aca tax credit</td>\n    </tr>\n  </tbody>\n</table>\n</div>"
     },
     "metadata": {},
     "execution_count": 27
    }
   ],
   "source": [
    "posts_aca.head()"
   ]
  },
  {
   "cell_type": "code",
   "execution_count": 38,
   "metadata": {},
   "outputs": [],
   "source": [
    "posts_aca.to_csv('../data/processed/aca_posts.csv')"
   ]
  }
 ]
}