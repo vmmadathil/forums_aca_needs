{
 "metadata": {
  "language_info": {
   "codemirror_mode": {
    "name": "ipython",
    "version": 3
   },
   "file_extension": ".py",
   "mimetype": "text/x-python",
   "name": "python",
   "nbconvert_exporter": "python",
   "pygments_lexer": "ipython3",
   "version": "3.8.5-final"
  },
  "orig_nbformat": 2,
  "kernelspec": {
   "name": "python3",
   "display_name": "Python 3.8.5 64-bit ('tx2036-test': conda)",
   "metadata": {
    "interpreter": {
     "hash": "a57c79dc9956e442f3c50029d8fd4fa1ea1c7263198942fc1f0ab90314f7affc"
    }
   }
  }
 },
 "nbformat": 4,
 "nbformat_minor": 2,
 "cells": [
  {
   "cell_type": "code",
   "execution_count": 1,
   "metadata": {},
   "outputs": [],
   "source": [
    "import numpy as np\n",
    "import matplotlib.pyplot as plt\n",
    "import seaborn as sns\n",
    "import pandas as pd"
   ]
  },
  {
   "cell_type": "code",
   "execution_count": 10,
   "metadata": {},
   "outputs": [
    {
     "output_type": "execute_result",
     "data": {
      "text/plain": [
       "   Unnamed: 0                                           selftext  \\\n",
       "0           0  Hi all, hoping for some advise here. \\n\\nWe ar...   \n",
       "1           1  It's my time picking out insurance and dealing...   \n",
       "2           2  I am wondering about the implications of answe...   \n",
       "3           3  I had spoken with someone over the phone with ...   \n",
       "4           4  Can anyone provide me any information about th...   \n",
       "\n",
       "                                               title         time_created  \\\n",
       "0                       Changing insurance mid year?  2020-11-20 04:38:11   \n",
       "1    PPO or CDHP as a person with a chronic disease?  2020-11-20 04:19:00   \n",
       "2  How to answer questions about an injury/worker...  2020-11-20 04:08:32   \n",
       "3                        Misinformed by my insurance  2020-11-20 03:07:41   \n",
       "4                                Blue Cross vs Cigna  2020-11-20 01:56:38   \n",
       "\n",
       "                                      processed_text  \\\n",
       "0  hi hoping advise currently wife's insurance (c...   \n",
       "1  time picking insurance dealing premiums deduct...   \n",
       "2  wondering implications answering questionnaire...   \n",
       "3  spoken someone phone anthem (my insurance prov...   \n",
       "4  anyone provide information cigna connect 700-4...   \n",
       "\n",
       "                        processed_title  \n",
       "0           changing insurance mid year  \n",
       "1       ppo cdhp person chronic disease  \n",
       "2  answer questions injury/workers comp  \n",
       "3                 misinformed insurance  \n",
       "4                   blue cross vs cigna  "
      ],
      "text/html": "<div>\n<style scoped>\n    .dataframe tbody tr th:only-of-type {\n        vertical-align: middle;\n    }\n\n    .dataframe tbody tr th {\n        vertical-align: top;\n    }\n\n    .dataframe thead th {\n        text-align: right;\n    }\n</style>\n<table border=\"1\" class=\"dataframe\">\n  <thead>\n    <tr style=\"text-align: right;\">\n      <th></th>\n      <th>Unnamed: 0</th>\n      <th>selftext</th>\n      <th>title</th>\n      <th>time_created</th>\n      <th>processed_text</th>\n      <th>processed_title</th>\n    </tr>\n  </thead>\n  <tbody>\n    <tr>\n      <th>0</th>\n      <td>0</td>\n      <td>Hi all, hoping for some advise here. \\n\\nWe ar...</td>\n      <td>Changing insurance mid year?</td>\n      <td>2020-11-20 04:38:11</td>\n      <td>hi hoping advise currently wife's insurance (c...</td>\n      <td>changing insurance mid year</td>\n    </tr>\n    <tr>\n      <th>1</th>\n      <td>1</td>\n      <td>It's my time picking out insurance and dealing...</td>\n      <td>PPO or CDHP as a person with a chronic disease?</td>\n      <td>2020-11-20 04:19:00</td>\n      <td>time picking insurance dealing premiums deduct...</td>\n      <td>ppo cdhp person chronic disease</td>\n    </tr>\n    <tr>\n      <th>2</th>\n      <td>2</td>\n      <td>I am wondering about the implications of answe...</td>\n      <td>How to answer questions about an injury/worker...</td>\n      <td>2020-11-20 04:08:32</td>\n      <td>wondering implications answering questionnaire...</td>\n      <td>answer questions injury/workers comp</td>\n    </tr>\n    <tr>\n      <th>3</th>\n      <td>3</td>\n      <td>I had spoken with someone over the phone with ...</td>\n      <td>Misinformed by my insurance</td>\n      <td>2020-11-20 03:07:41</td>\n      <td>spoken someone phone anthem (my insurance prov...</td>\n      <td>misinformed insurance</td>\n    </tr>\n    <tr>\n      <th>4</th>\n      <td>4</td>\n      <td>Can anyone provide me any information about th...</td>\n      <td>Blue Cross vs Cigna</td>\n      <td>2020-11-20 01:56:38</td>\n      <td>anyone provide information cigna connect 700-4...</td>\n      <td>blue cross vs cigna</td>\n    </tr>\n  </tbody>\n</table>\n</div>"
     },
     "metadata": {},
     "execution_count": 10
    }
   ],
   "source": [
    "#reading in dataset \n",
    "posts = pd.read_csv('../data/processed/cleaned_reddit_data.csv')\n",
    "\n",
    "posts.head()"
   ]
  },
  {
   "cell_type": "code",
   "execution_count": 5,
   "metadata": {},
   "outputs": [
    {
     "output_type": "stream",
     "name": "stdout",
     "text": [
      "(13047, 6)\n"
     ]
    }
   ],
   "source": [
    "print(posts.shape)"
   ]
  },
  {
   "cell_type": "code",
   "execution_count": 13,
   "metadata": {},
   "outputs": [
    {
     "output_type": "execute_result",
     "data": {
      "text/plain": [
       "       Unnamed: 0                                           selftext  \\\n",
       "13042       18915  Hi, I have a terrible  hmo plan through my emp...   \n",
       "13043       18917  My girlfriend has HIV and has had it for somet...   \n",
       "13044       18918  If a plan does not show co-payments (for dr vi...   \n",
       "13045       18921  I recently voluntarily left my job, and have n...   \n",
       "13046       18934  It's not so \"Jerry Springer\" as the title make...   \n",
       "\n",
       "                                                   title         time_created  \\\n",
       "13042  Can I opt out of my employer health insurance ...  2015-02-01 13:15:40   \n",
       "13043  Need help girlfriend with HIV needs health ins...  2014-12-04 22:47:51   \n",
       "13044  First time Shopping for Health Insurance.. Nee...  2014-11-24 03:48:36   \n",
       "13045                    How do I find Health Insurance?  2014-10-29 15:15:14   \n",
       "13046  Uninsured and pregnant by a married man. Any a...  2013-04-11 18:24:53   \n",
       "\n",
       "                                          processed_text  \\\n",
       "13042  hi terrible hmo plan employer i'm recently div...   \n",
       "13043  girlfriend hiv sometime program assists meds l...   \n",
       "13044  plan show co-payments (for dr visits such) mea...   \n",
       "13045  recently voluntarily left job insurance i'm ne...   \n",
       "13046  \"jerry springer\" title makes sound found boyfr...   \n",
       "\n",
       "                                         processed_title  \n",
       "13042  opt employer health insurance purchase state i...  \n",
       "13043    need help girlfriend hiv needs health insurance  \n",
       "13044  first time shopping health insurance need some...  \n",
       "13045                              find health insurance  \n",
       "13046  uninsured pregnant married man advice would mu...  "
      ],
      "text/html": "<div>\n<style scoped>\n    .dataframe tbody tr th:only-of-type {\n        vertical-align: middle;\n    }\n\n    .dataframe tbody tr th {\n        vertical-align: top;\n    }\n\n    .dataframe thead th {\n        text-align: right;\n    }\n</style>\n<table border=\"1\" class=\"dataframe\">\n  <thead>\n    <tr style=\"text-align: right;\">\n      <th></th>\n      <th>Unnamed: 0</th>\n      <th>selftext</th>\n      <th>title</th>\n      <th>time_created</th>\n      <th>processed_text</th>\n      <th>processed_title</th>\n    </tr>\n  </thead>\n  <tbody>\n    <tr>\n      <th>13042</th>\n      <td>18915</td>\n      <td>Hi, I have a terrible  hmo plan through my emp...</td>\n      <td>Can I opt out of my employer health insurance ...</td>\n      <td>2015-02-01 13:15:40</td>\n      <td>hi terrible hmo plan employer i'm recently div...</td>\n      <td>opt employer health insurance purchase state i...</td>\n    </tr>\n    <tr>\n      <th>13043</th>\n      <td>18917</td>\n      <td>My girlfriend has HIV and has had it for somet...</td>\n      <td>Need help girlfriend with HIV needs health ins...</td>\n      <td>2014-12-04 22:47:51</td>\n      <td>girlfriend hiv sometime program assists meds l...</td>\n      <td>need help girlfriend hiv needs health insurance</td>\n    </tr>\n    <tr>\n      <th>13044</th>\n      <td>18918</td>\n      <td>If a plan does not show co-payments (for dr vi...</td>\n      <td>First time Shopping for Health Insurance.. Nee...</td>\n      <td>2014-11-24 03:48:36</td>\n      <td>plan show co-payments (for dr visits such) mea...</td>\n      <td>first time shopping health insurance need some...</td>\n    </tr>\n    <tr>\n      <th>13045</th>\n      <td>18921</td>\n      <td>I recently voluntarily left my job, and have n...</td>\n      <td>How do I find Health Insurance?</td>\n      <td>2014-10-29 15:15:14</td>\n      <td>recently voluntarily left job insurance i'm ne...</td>\n      <td>find health insurance</td>\n    </tr>\n    <tr>\n      <th>13046</th>\n      <td>18934</td>\n      <td>It's not so \"Jerry Springer\" as the title make...</td>\n      <td>Uninsured and pregnant by a married man. Any a...</td>\n      <td>2013-04-11 18:24:53</td>\n      <td>\"jerry springer\" title makes sound found boyfr...</td>\n      <td>uninsured pregnant married man advice would mu...</td>\n    </tr>\n  </tbody>\n</table>\n</div>"
     },
     "metadata": {},
     "execution_count": 13
    }
   ],
   "source": [
    "posts.tail()"
   ]
  },
  {
   "cell_type": "code",
   "execution_count": 18,
   "metadata": {},
   "outputs": [
    {
     "output_type": "stream",
     "name": "stdout",
     "text": [
      "(344, 6)\n"
     ]
    }
   ],
   "source": [
    "posts_aca = posts[posts['processed_title'].str.contains('obamacare|obama care|aca|affordable care act|individual mandate|healthcare.gov|1095-a|1095a|1095|open enrollment|marketplace')]\n",
    "\n",
    "print(posts_aca.shape)"
   ]
  },
  {
   "cell_type": "code",
   "execution_count": 19,
   "metadata": {},
   "outputs": [
    {
     "output_type": "execute_result",
     "data": {
      "text/plain": [
       "     Unnamed: 0                                           selftext  \\\n",
       "27           29  Got laid off early this year. At the time I th...   \n",
       "60           70  They've pulled back the curtain on the 2021 pl...   \n",
       "90          103  Edited to add state: TEXAS\\n\\nMy husband is cu...   \n",
       "106         122                                     I had no idea.   \n",
       "368         446                                               test   \n",
       "\n",
       "                                                 title         time_created  \\\n",
       "27                    How To Back Date ACA Tax Credit?  2020-11-18 22:02:56   \n",
       "60                          2021 NY State ACA Carriers  2020-11-17 18:04:50   \n",
       "90   Spouse and I will both be unemployed soon, do ...  2020-11-15 20:00:25   \n",
       "106  Did the individual mandate really expire in 2018?  2020-11-14 03:12:52   \n",
       "368            supreme court aca obamacare repeal test  2020-10-28 23:15:51   \n",
       "\n",
       "                                        processed_text  \\\n",
       "27   got laid early year time thought i'd find job ...   \n",
       "60   they've pulled back curtain 2021 plans empire ...   \n",
       "90   edited add state: texas husband currently unem...   \n",
       "106                                               idea   \n",
       "368                                               test   \n",
       "\n",
       "                             processed_title  \n",
       "27                  back date aca tax credit  \n",
       "60                2021 ny state aca carriers  \n",
       "90        spouse unemployed soon go aca sign  \n",
       "106    individual mandate really expire 2018  \n",
       "368  supreme court aca obamacare repeal test  "
      ],
      "text/html": "<div>\n<style scoped>\n    .dataframe tbody tr th:only-of-type {\n        vertical-align: middle;\n    }\n\n    .dataframe tbody tr th {\n        vertical-align: top;\n    }\n\n    .dataframe thead th {\n        text-align: right;\n    }\n</style>\n<table border=\"1\" class=\"dataframe\">\n  <thead>\n    <tr style=\"text-align: right;\">\n      <th></th>\n      <th>Unnamed: 0</th>\n      <th>selftext</th>\n      <th>title</th>\n      <th>time_created</th>\n      <th>processed_text</th>\n      <th>processed_title</th>\n    </tr>\n  </thead>\n  <tbody>\n    <tr>\n      <th>27</th>\n      <td>29</td>\n      <td>Got laid off early this year. At the time I th...</td>\n      <td>How To Back Date ACA Tax Credit?</td>\n      <td>2020-11-18 22:02:56</td>\n      <td>got laid early year time thought i'd find job ...</td>\n      <td>back date aca tax credit</td>\n    </tr>\n    <tr>\n      <th>60</th>\n      <td>70</td>\n      <td>They've pulled back the curtain on the 2021 pl...</td>\n      <td>2021 NY State ACA Carriers</td>\n      <td>2020-11-17 18:04:50</td>\n      <td>they've pulled back curtain 2021 plans empire ...</td>\n      <td>2021 ny state aca carriers</td>\n    </tr>\n    <tr>\n      <th>90</th>\n      <td>103</td>\n      <td>Edited to add state: TEXAS\\n\\nMy husband is cu...</td>\n      <td>Spouse and I will both be unemployed soon, do ...</td>\n      <td>2020-11-15 20:00:25</td>\n      <td>edited add state: texas husband currently unem...</td>\n      <td>spouse unemployed soon go aca sign</td>\n    </tr>\n    <tr>\n      <th>106</th>\n      <td>122</td>\n      <td>I had no idea.</td>\n      <td>Did the individual mandate really expire in 2018?</td>\n      <td>2020-11-14 03:12:52</td>\n      <td>idea</td>\n      <td>individual mandate really expire 2018</td>\n    </tr>\n    <tr>\n      <th>368</th>\n      <td>446</td>\n      <td>test</td>\n      <td>supreme court aca obamacare repeal test</td>\n      <td>2020-10-28 23:15:51</td>\n      <td>test</td>\n      <td>supreme court aca obamacare repeal test</td>\n    </tr>\n  </tbody>\n</table>\n</div>"
     },
     "metadata": {},
     "execution_count": 19
    }
   ],
   "source": [
    "posts_aca.head()"
   ]
  }
 ]
}