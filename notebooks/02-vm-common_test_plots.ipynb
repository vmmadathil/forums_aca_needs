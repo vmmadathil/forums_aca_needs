{
 "metadata": {
  "language_info": {
   "codemirror_mode": {
    "name": "ipython",
    "version": 3
   },
   "file_extension": ".py",
   "mimetype": "text/x-python",
   "name": "python",
   "nbconvert_exporter": "python",
   "pygments_lexer": "ipython3",
   "version": "3.8.5-final"
  },
  "orig_nbformat": 2,
  "kernelspec": {
   "name": "python3",
   "display_name": "Python 3.8.5 64-bit ('aca-forum': conda)",
   "metadata": {
    "interpreter": {
     "hash": "59e43299af438c040623fe1ed75598134e5c49a9e638af191f2054cd46fed4b5"
    }
   }
  }
 },
 "nbformat": 4,
 "nbformat_minor": 2,
 "cells": [
  {
   "cell_type": "code",
   "execution_count": 5,
   "metadata": {},
   "outputs": [],
   "source": [
    "from sklearn.feature_extraction.text import CountVectorizer\n",
    "import numpy as np\n",
    "import matplotlib.pyplot as plt\n",
    "import seaborn as sns\n",
    "import pandas as pd\n",
    "sns.set_style('whitegrid')\n",
    "%matplotlib inline"
   ]
  },
  {
   "cell_type": "code",
   "execution_count": 6,
   "metadata": {},
   "outputs": [
    {
     "output_type": "execute_result",
     "data": {
      "text/plain": [
       "   Unnamed: 0  Unnamed: 0.1  \\\n",
       "0           0             0   \n",
       "1           1             1   \n",
       "2           2             2   \n",
       "3           3             3   \n",
       "4           4             4   \n",
       "\n",
       "                                            selftext  \\\n",
       "0  Hi all, hoping for some advise here. \\n\\nWe ar...   \n",
       "1  It's my time picking out insurance and dealing...   \n",
       "2  I am wondering about the implications of answe...   \n",
       "3  I had spoken with someone over the phone with ...   \n",
       "4  Can anyone provide me any information about th...   \n",
       "\n",
       "                                               title         time_created  \\\n",
       "0                       Changing insurance mid year?  2020-11-20 04:38:11   \n",
       "1    PPO or CDHP as a person with a chronic disease?  2020-11-20 04:19:00   \n",
       "2  How to answer questions about an injury/worker...  2020-11-20 04:08:32   \n",
       "3                        Misinformed by my insurance  2020-11-20 03:07:41   \n",
       "4                                Blue Cross vs Cigna  2020-11-20 01:56:38   \n",
       "\n",
       "                                      processed_text  \n",
       "0  hi all hoping for some advise here \\n\\nwe are ...  \n",
       "1  it's my time picking out insurance and dealing...  \n",
       "2  i am wondering about the implications of answe...  \n",
       "3  i had spoken with someone over the phone with ...  \n",
       "4  can anyone provide me any information about th...  "
      ],
      "text/html": "<div>\n<style scoped>\n    .dataframe tbody tr th:only-of-type {\n        vertical-align: middle;\n    }\n\n    .dataframe tbody tr th {\n        vertical-align: top;\n    }\n\n    .dataframe thead th {\n        text-align: right;\n    }\n</style>\n<table border=\"1\" class=\"dataframe\">\n  <thead>\n    <tr style=\"text-align: right;\">\n      <th></th>\n      <th>Unnamed: 0</th>\n      <th>Unnamed: 0.1</th>\n      <th>selftext</th>\n      <th>title</th>\n      <th>time_created</th>\n      <th>processed_text</th>\n    </tr>\n  </thead>\n  <tbody>\n    <tr>\n      <th>0</th>\n      <td>0</td>\n      <td>0</td>\n      <td>Hi all, hoping for some advise here. \\n\\nWe ar...</td>\n      <td>Changing insurance mid year?</td>\n      <td>2020-11-20 04:38:11</td>\n      <td>hi all hoping for some advise here \\n\\nwe are ...</td>\n    </tr>\n    <tr>\n      <th>1</th>\n      <td>1</td>\n      <td>1</td>\n      <td>It's my time picking out insurance and dealing...</td>\n      <td>PPO or CDHP as a person with a chronic disease?</td>\n      <td>2020-11-20 04:19:00</td>\n      <td>it's my time picking out insurance and dealing...</td>\n    </tr>\n    <tr>\n      <th>2</th>\n      <td>2</td>\n      <td>2</td>\n      <td>I am wondering about the implications of answe...</td>\n      <td>How to answer questions about an injury/worker...</td>\n      <td>2020-11-20 04:08:32</td>\n      <td>i am wondering about the implications of answe...</td>\n    </tr>\n    <tr>\n      <th>3</th>\n      <td>3</td>\n      <td>3</td>\n      <td>I had spoken with someone over the phone with ...</td>\n      <td>Misinformed by my insurance</td>\n      <td>2020-11-20 03:07:41</td>\n      <td>i had spoken with someone over the phone with ...</td>\n    </tr>\n    <tr>\n      <th>4</th>\n      <td>4</td>\n      <td>4</td>\n      <td>Can anyone provide me any information about th...</td>\n      <td>Blue Cross vs Cigna</td>\n      <td>2020-11-20 01:56:38</td>\n      <td>can anyone provide me any information about th...</td>\n    </tr>\n  </tbody>\n</table>\n</div>"
     },
     "metadata": {},
     "execution_count": 6
    }
   ],
   "source": [
    "#reading in dataset \n",
    "posts = pd.read_csv('../data/processed/cleaned_reddit_data.csv')\n",
    "\n",
    "posts.head()"
   ]
  },
  {
   "cell_type": "code",
   "execution_count": null,
   "metadata": {},
   "outputs": [],
   "source": [
    "# Helper function\n",
    "def plot_10_most_common_words(count_data, count_vectorizer):\n",
    "    import matplotlib.pyplot as plt\n",
    "    words = count_vectorizer.get_feature_names()\n",
    "    total_counts = np.zeros(len(words))\n",
    "    for t in count_data:\n",
    "        total_counts+=t.toarray()[0]\n",
    "    \n",
    "    count_dict = (zip(words, total_counts))\n",
    "    count_dict = sorted(count_dict, key=lambda x:x[1], reverse=True)[0:10]\n",
    "    words = [w[0] for w in count_dict]\n",
    "    counts = [w[1] for w in count_dict]\n",
    "    x_pos = np.arange(len(words)) \n",
    "    \n",
    "    plt.figure(2, figsize=(15, 15/1.6180))\n",
    "    plt.subplot(title='10 most common words')\n",
    "    sns.set_context(\"notebook\", font_scale=1.25, rc={\"lines.linewidth\": 2.5})\n",
    "    sns.barplot(x_pos, counts, palette='husl')\n",
    "    plt.xticks(x_pos, words, rotation=90) \n",
    "    plt.xlabel('words')\n",
    "    plt.ylabel('counts')\n",
    "    plt.show()# Initialise the count vectorizer with the English stop words\n",
    "count_vectorizer = CountVectorizer(stop_words='english')# Fit and transform the processed titles\n",
    "count_data = count_vectorizer.fit_transform(posts['processed_text'])# Visualise the 10 most common words\n",
    "plot_10_most_common_words(count_data, count_vectorizer)"
   ]
  }
 ]
}